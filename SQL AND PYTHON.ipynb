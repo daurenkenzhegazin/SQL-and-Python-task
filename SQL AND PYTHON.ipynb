{
 "cells": [
  {
   "cell_type": "code",
   "execution_count": 2,
   "metadata": {},
   "outputs": [],
   "source": [
    "import pandas as pd\n",
    "import numpy as np\n",
    "import csv,sqlite3"
   ]
  },
  {
   "cell_type": "code",
   "execution_count": 6,
   "metadata": {},
   "outputs": [
    {
     "data": {
      "text/html": [
       "<div>\n",
       "<style scoped>\n",
       "    .dataframe tbody tr th:only-of-type {\n",
       "        vertical-align: middle;\n",
       "    }\n",
       "\n",
       "    .dataframe tbody tr th {\n",
       "        vertical-align: top;\n",
       "    }\n",
       "\n",
       "    .dataframe thead th {\n",
       "        text-align: right;\n",
       "    }\n",
       "</style>\n",
       "<table border=\"1\" class=\"dataframe\">\n",
       "  <thead>\n",
       "    <tr style=\"text-align: right;\">\n",
       "      <th></th>\n",
       "      <th>id</th>\n",
       "      <th>date</th>\n",
       "      <th>type</th>\n",
       "      <th>uah</th>\n",
       "      <th>manager</th>\n",
       "      <th>is_packet</th>\n",
       "    </tr>\n",
       "  </thead>\n",
       "  <tbody>\n",
       "    <tr>\n",
       "      <th>0</th>\n",
       "      <td>11000013</td>\n",
       "      <td>2021-01-01</td>\n",
       "      <td>c</td>\n",
       "      <td>4000</td>\n",
       "      <td>Petr</td>\n",
       "      <td>0</td>\n",
       "    </tr>\n",
       "    <tr>\n",
       "      <th>1</th>\n",
       "      <td>11000116</td>\n",
       "      <td>2021-01-01</td>\n",
       "      <td>b</td>\n",
       "      <td>5000</td>\n",
       "      <td>Petr</td>\n",
       "      <td>0</td>\n",
       "    </tr>\n",
       "    <tr>\n",
       "      <th>2</th>\n",
       "      <td>10347505</td>\n",
       "      <td>2021-01-02</td>\n",
       "      <td>a</td>\n",
       "      <td>1000</td>\n",
       "      <td>Kuat</td>\n",
       "      <td>1</td>\n",
       "    </tr>\n",
       "    <tr>\n",
       "      <th>3</th>\n",
       "      <td>10128057</td>\n",
       "      <td>2021-01-03</td>\n",
       "      <td>e</td>\n",
       "      <td>500</td>\n",
       "      <td>Petr</td>\n",
       "      <td>1</td>\n",
       "    </tr>\n",
       "    <tr>\n",
       "      <th>4</th>\n",
       "      <td>11000112</td>\n",
       "      <td>2021-01-03</td>\n",
       "      <td>f</td>\n",
       "      <td>9000</td>\n",
       "      <td>Askhat</td>\n",
       "      <td>0</td>\n",
       "    </tr>\n",
       "    <tr>\n",
       "      <th>...</th>\n",
       "      <td>...</td>\n",
       "      <td>...</td>\n",
       "      <td>...</td>\n",
       "      <td>...</td>\n",
       "      <td>...</td>\n",
       "      <td>...</td>\n",
       "    </tr>\n",
       "    <tr>\n",
       "      <th>994</th>\n",
       "      <td>10291886</td>\n",
       "      <td>2021-10-31</td>\n",
       "      <td>e</td>\n",
       "      <td>500</td>\n",
       "      <td>Petr</td>\n",
       "      <td>1</td>\n",
       "    </tr>\n",
       "    <tr>\n",
       "      <th>995</th>\n",
       "      <td>10373467</td>\n",
       "      <td>2021-10-31</td>\n",
       "      <td>f</td>\n",
       "      <td>9000</td>\n",
       "      <td>Petr</td>\n",
       "      <td>1</td>\n",
       "    </tr>\n",
       "    <tr>\n",
       "      <th>996</th>\n",
       "      <td>10397524</td>\n",
       "      <td>2021-10-31</td>\n",
       "      <td>f</td>\n",
       "      <td>9000</td>\n",
       "      <td>Ivan</td>\n",
       "      <td>1</td>\n",
       "    </tr>\n",
       "    <tr>\n",
       "      <th>997</th>\n",
       "      <td>10791680</td>\n",
       "      <td>2021-10-31</td>\n",
       "      <td>d</td>\n",
       "      <td>10000</td>\n",
       "      <td>Ivan</td>\n",
       "      <td>0</td>\n",
       "    </tr>\n",
       "    <tr>\n",
       "      <th>998</th>\n",
       "      <td>11000185</td>\n",
       "      <td>2021-10-31</td>\n",
       "      <td>a</td>\n",
       "      <td>1000</td>\n",
       "      <td>Askhat</td>\n",
       "      <td>0</td>\n",
       "    </tr>\n",
       "  </tbody>\n",
       "</table>\n",
       "<p>999 rows × 6 columns</p>\n",
       "</div>"
      ],
      "text/plain": [
       "           id       date type    uah manager  is_packet\n",
       "0    11000013 2021-01-01    c   4000    Petr          0\n",
       "1    11000116 2021-01-01    b   5000    Petr          0\n",
       "2    10347505 2021-01-02    a   1000    Kuat          1\n",
       "3    10128057 2021-01-03    e    500    Petr          1\n",
       "4    11000112 2021-01-03    f   9000  Askhat          0\n",
       "..        ...        ...  ...    ...     ...        ...\n",
       "994  10291886 2021-10-31    e    500    Petr          1\n",
       "995  10373467 2021-10-31    f   9000    Petr          1\n",
       "996  10397524 2021-10-31    f   9000    Ivan          1\n",
       "997  10791680 2021-10-31    d  10000    Ivan          0\n",
       "998  11000185 2021-10-31    a   1000  Askhat          0\n",
       "\n",
       "[999 rows x 6 columns]"
      ]
     },
     "execution_count": 6,
     "metadata": {},
     "output_type": "execute_result"
    }
   ],
   "source": [
    "trans = pd.read_excel('C:/Users/kenze/Downloads/transactions.xlsx')\n",
    "calls = pd.read_csv('C:/Users/kenze/Downloads/calls.csv', sep = ';')\n",
    "trans"
   ]
  },
  {
   "cell_type": "code",
   "execution_count": 65,
   "metadata": {},
   "outputs": [
    {
     "data": {
      "text/html": [
       "<div>\n",
       "<style scoped>\n",
       "    .dataframe tbody tr th:only-of-type {\n",
       "        vertical-align: middle;\n",
       "    }\n",
       "\n",
       "    .dataframe tbody tr th {\n",
       "        vertical-align: top;\n",
       "    }\n",
       "\n",
       "    .dataframe thead th {\n",
       "        text-align: right;\n",
       "    }\n",
       "</style>\n",
       "<table border=\"1\" class=\"dataframe\">\n",
       "  <thead>\n",
       "    <tr style=\"text-align: right;\">\n",
       "      <th></th>\n",
       "      <th>id</th>\n",
       "      <th>date</th>\n",
       "      <th>type</th>\n",
       "      <th>uah</th>\n",
       "      <th>manager</th>\n",
       "      <th>is_packet</th>\n",
       "      <th>last_call</th>\n",
       "    </tr>\n",
       "  </thead>\n",
       "  <tbody>\n",
       "    <tr>\n",
       "      <th>0</th>\n",
       "      <td>10347505</td>\n",
       "      <td>2021-01-02</td>\n",
       "      <td>a</td>\n",
       "      <td>1000</td>\n",
       "      <td>Kuat</td>\n",
       "      <td>1</td>\n",
       "      <td>23.04.2021</td>\n",
       "    </tr>\n",
       "    <tr>\n",
       "      <th>1</th>\n",
       "      <td>10347505</td>\n",
       "      <td>2021-05-03</td>\n",
       "      <td>f</td>\n",
       "      <td>9000</td>\n",
       "      <td>Erbol</td>\n",
       "      <td>1</td>\n",
       "      <td>23.04.2021</td>\n",
       "    </tr>\n",
       "    <tr>\n",
       "      <th>2</th>\n",
       "      <td>10128057</td>\n",
       "      <td>2021-01-03</td>\n",
       "      <td>e</td>\n",
       "      <td>500</td>\n",
       "      <td>Petr</td>\n",
       "      <td>1</td>\n",
       "      <td>14.01.2021</td>\n",
       "    </tr>\n",
       "    <tr>\n",
       "      <th>3</th>\n",
       "      <td>10128057</td>\n",
       "      <td>2021-09-07</td>\n",
       "      <td>e</td>\n",
       "      <td>500</td>\n",
       "      <td>Aliya</td>\n",
       "      <td>1</td>\n",
       "      <td>14.01.2021</td>\n",
       "    </tr>\n",
       "    <tr>\n",
       "      <th>4</th>\n",
       "      <td>10145432</td>\n",
       "      <td>2021-01-04</td>\n",
       "      <td>g</td>\n",
       "      <td>7000</td>\n",
       "      <td>Kuat</td>\n",
       "      <td>1</td>\n",
       "      <td>29.04.2021</td>\n",
       "    </tr>\n",
       "    <tr>\n",
       "      <th>...</th>\n",
       "      <td>...</td>\n",
       "      <td>...</td>\n",
       "      <td>...</td>\n",
       "      <td>...</td>\n",
       "      <td>...</td>\n",
       "      <td>...</td>\n",
       "      <td>...</td>\n",
       "    </tr>\n",
       "    <tr>\n",
       "      <th>1428</th>\n",
       "      <td>10561570</td>\n",
       "      <td>2021-10-28</td>\n",
       "      <td>e</td>\n",
       "      <td>500</td>\n",
       "      <td>Erbol</td>\n",
       "      <td>1</td>\n",
       "      <td>24.04.2021</td>\n",
       "    </tr>\n",
       "    <tr>\n",
       "      <th>1429</th>\n",
       "      <td>10361105</td>\n",
       "      <td>2021-10-22</td>\n",
       "      <td>e</td>\n",
       "      <td>500</td>\n",
       "      <td>Ivan</td>\n",
       "      <td>1</td>\n",
       "      <td>10.06.2021</td>\n",
       "    </tr>\n",
       "    <tr>\n",
       "      <th>1430</th>\n",
       "      <td>10812603</td>\n",
       "      <td>2021-10-25</td>\n",
       "      <td>c</td>\n",
       "      <td>4000</td>\n",
       "      <td>Erbol</td>\n",
       "      <td>0</td>\n",
       "      <td>02.01.2021</td>\n",
       "    </tr>\n",
       "    <tr>\n",
       "      <th>1431</th>\n",
       "      <td>10179423</td>\n",
       "      <td>2021-10-26</td>\n",
       "      <td>f</td>\n",
       "      <td>9000</td>\n",
       "      <td>Erbol</td>\n",
       "      <td>1</td>\n",
       "      <td>19.05.2021</td>\n",
       "    </tr>\n",
       "    <tr>\n",
       "      <th>1432</th>\n",
       "      <td>10370131</td>\n",
       "      <td>2021-10-28</td>\n",
       "      <td>f</td>\n",
       "      <td>9000</td>\n",
       "      <td>Ivan</td>\n",
       "      <td>1</td>\n",
       "      <td>08.06.2021</td>\n",
       "    </tr>\n",
       "  </tbody>\n",
       "</table>\n",
       "<p>1433 rows × 7 columns</p>\n",
       "</div>"
      ],
      "text/plain": [
       "            id       date type   uah manager  is_packet   last_call\n",
       "0     10347505 2021-01-02    a  1000    Kuat          1  23.04.2021\n",
       "1     10347505 2021-05-03    f  9000   Erbol          1  23.04.2021\n",
       "2     10128057 2021-01-03    e   500    Petr          1  14.01.2021\n",
       "3     10128057 2021-09-07    e   500   Aliya          1  14.01.2021\n",
       "4     10145432 2021-01-04    g  7000    Kuat          1  29.04.2021\n",
       "...        ...        ...  ...   ...     ...        ...         ...\n",
       "1428  10561570 2021-10-28    e   500   Erbol          1  24.04.2021\n",
       "1429  10361105 2021-10-22    e   500    Ivan          1  10.06.2021\n",
       "1430  10812603 2021-10-25    c  4000   Erbol          0  02.01.2021\n",
       "1431  10179423 2021-10-26    f  9000   Erbol          1  19.05.2021\n",
       "1432  10370131 2021-10-28    f  9000    Ivan          1  08.06.2021\n",
       "\n",
       "[1433 rows x 7 columns]"
      ]
     },
     "execution_count": 65,
     "metadata": {},
     "output_type": "execute_result"
    }
   ],
   "source": [
    "final = trans.merge(calls,left_on='id', right_on='id', suffixes=(False, False))\n",
    "final"
   ]
  },
  {
   "cell_type": "code",
   "execution_count": 66,
   "metadata": {},
   "outputs": [],
   "source": [
    "cnn = sqlite3.connect('sql.db')\n",
    "final.to_sql('Owner',cnn)\n",
    "%load_ext sql\n",
    "%sql sqlite:///sql.db"
   ]
  },
  {
   "cell_type": "code",
   "execution_count": 67,
   "metadata": {},
   "outputs": [
    {
     "name": "stdout",
     "output_type": "stream",
     "text": [
      " * sqlite:///sql.db\n",
      "Done.\n"
     ]
    },
    {
     "data": {
      "text/html": [
       "<table>\n",
       "    <tr>\n",
       "        <th>index</th>\n",
       "        <th>id</th>\n",
       "        <th>date</th>\n",
       "        <th>type</th>\n",
       "        <th>uah</th>\n",
       "        <th>manager</th>\n",
       "        <th>is_packet</th>\n",
       "        <th>last_call</th>\n",
       "    </tr>\n",
       "    <tr>\n",
       "        <td>0</td>\n",
       "        <td>10347505</td>\n",
       "        <td>2021-01-02 00:00:00</td>\n",
       "        <td>a</td>\n",
       "        <td>1000</td>\n",
       "        <td>Kuat</td>\n",
       "        <td>1</td>\n",
       "        <td>23.04.2021</td>\n",
       "    </tr>\n",
       "    <tr>\n",
       "        <td>1</td>\n",
       "        <td>10347505</td>\n",
       "        <td>2021-05-03 00:00:00</td>\n",
       "        <td>f</td>\n",
       "        <td>9000</td>\n",
       "        <td>Erbol</td>\n",
       "        <td>1</td>\n",
       "        <td>23.04.2021</td>\n",
       "    </tr>\n",
       "    <tr>\n",
       "        <td>2</td>\n",
       "        <td>10128057</td>\n",
       "        <td>2021-01-03 00:00:00</td>\n",
       "        <td>e</td>\n",
       "        <td>500</td>\n",
       "        <td>Petr</td>\n",
       "        <td>1</td>\n",
       "        <td>14.01.2021</td>\n",
       "    </tr>\n",
       "    <tr>\n",
       "        <td>3</td>\n",
       "        <td>10128057</td>\n",
       "        <td>2021-09-07 00:00:00</td>\n",
       "        <td>e</td>\n",
       "        <td>500</td>\n",
       "        <td>Aliya</td>\n",
       "        <td>1</td>\n",
       "        <td>14.01.2021</td>\n",
       "    </tr>\n",
       "    <tr>\n",
       "        <td>4</td>\n",
       "        <td>10145432</td>\n",
       "        <td>2021-01-04 00:00:00</td>\n",
       "        <td>g</td>\n",
       "        <td>7000</td>\n",
       "        <td>Kuat</td>\n",
       "        <td>1</td>\n",
       "        <td>29.04.2021</td>\n",
       "    </tr>\n",
       "    <tr>\n",
       "        <td>5</td>\n",
       "        <td>10145432</td>\n",
       "        <td>2021-06-15 00:00:00</td>\n",
       "        <td>d</td>\n",
       "        <td>10000</td>\n",
       "        <td>Kate</td>\n",
       "        <td>1</td>\n",
       "        <td>29.04.2021</td>\n",
       "    </tr>\n",
       "    <tr>\n",
       "        <td>6</td>\n",
       "        <td>10145432</td>\n",
       "        <td>2021-07-06 00:00:00</td>\n",
       "        <td>d</td>\n",
       "        <td>10000</td>\n",
       "        <td>Kuat</td>\n",
       "        <td>1</td>\n",
       "        <td>29.04.2021</td>\n",
       "    </tr>\n",
       "    <tr>\n",
       "        <td>7</td>\n",
       "        <td>10154657</td>\n",
       "        <td>2021-01-04 00:00:00</td>\n",
       "        <td>b</td>\n",
       "        <td>5000</td>\n",
       "        <td>Aset</td>\n",
       "        <td>1</td>\n",
       "        <td>29.01.2021</td>\n",
       "    </tr>\n",
       "    <tr>\n",
       "        <td>8</td>\n",
       "        <td>10154657</td>\n",
       "        <td>2021-04-13 00:00:00</td>\n",
       "        <td>f</td>\n",
       "        <td>9000</td>\n",
       "        <td>Petr</td>\n",
       "        <td>1</td>\n",
       "        <td>29.01.2021</td>\n",
       "    </tr>\n",
       "    <tr>\n",
       "        <td>9</td>\n",
       "        <td>10308638</td>\n",
       "        <td>2021-01-04 00:00:00</td>\n",
       "        <td>f</td>\n",
       "        <td>9000</td>\n",
       "        <td>Askhat</td>\n",
       "        <td>1</td>\n",
       "        <td>26.01.2021</td>\n",
       "    </tr>\n",
       "</table>"
      ],
      "text/plain": [
       "[(0, 10347505, '2021-01-02 00:00:00', 'a', 1000, 'Kuat', 1, '23.04.2021'),\n",
       " (1, 10347505, '2021-05-03 00:00:00', 'f', 9000, 'Erbol', 1, '23.04.2021'),\n",
       " (2, 10128057, '2021-01-03 00:00:00', 'e', 500, 'Petr', 1, '14.01.2021'),\n",
       " (3, 10128057, '2021-09-07 00:00:00', 'e', 500, 'Aliya', 1, '14.01.2021'),\n",
       " (4, 10145432, '2021-01-04 00:00:00', 'g', 7000, 'Kuat', 1, '29.04.2021'),\n",
       " (5, 10145432, '2021-06-15 00:00:00', 'd', 10000, 'Kate', 1, '29.04.2021'),\n",
       " (6, 10145432, '2021-07-06 00:00:00', 'd', 10000, 'Kuat', 1, '29.04.2021'),\n",
       " (7, 10154657, '2021-01-04 00:00:00', 'b', 5000, 'Aset', 1, '29.01.2021'),\n",
       " (8, 10154657, '2021-04-13 00:00:00', 'f', 9000, 'Petr', 1, '29.01.2021'),\n",
       " (9, 10308638, '2021-01-04 00:00:00', 'f', 9000, 'Askhat', 1, '26.01.2021')]"
      ]
     },
     "execution_count": 67,
     "metadata": {},
     "output_type": "execute_result"
    }
   ],
   "source": [
    "%%sql\n",
    "SELECT *\n",
    "FROM Owner limit 10;"
   ]
  },
  {
   "cell_type": "markdown",
   "metadata": {},
   "source": [
    "## 1. Из приведенных ниже таблиц составьте запрос, который выберет список уникальных пользователей, которые просматривали веб-страницы на сайте в марте 2021 года, но не купили продукты типа «пакет» в течение этого месяца. Можете использовать MySQL, MS SSQL."
   ]
  },
  {
   "cell_type": "code",
   "execution_count": 68,
   "metadata": {},
   "outputs": [
    {
     "data": {
      "text/html": [
       "<div>\n",
       "<style scoped>\n",
       "    .dataframe tbody tr th:only-of-type {\n",
       "        vertical-align: middle;\n",
       "    }\n",
       "\n",
       "    .dataframe tbody tr th {\n",
       "        vertical-align: top;\n",
       "    }\n",
       "\n",
       "    .dataframe thead th {\n",
       "        text-align: right;\n",
       "    }\n",
       "</style>\n",
       "<table border=\"1\" class=\"dataframe\">\n",
       "  <thead>\n",
       "    <tr style=\"text-align: right;\">\n",
       "      <th></th>\n",
       "      <th>id</th>\n",
       "      <th>page_id</th>\n",
       "      <th>user_id</th>\n",
       "      <th>server_date</th>\n",
       "      <th>source</th>\n",
       "    </tr>\n",
       "  </thead>\n",
       "  <tbody>\n",
       "    <tr>\n",
       "      <th>0</th>\n",
       "      <td>1</td>\n",
       "      <td>5136113</td>\n",
       "      <td>10091236</td>\n",
       "      <td>2021-03-04 23:45:46.000</td>\n",
       "      <td>desktop</td>\n",
       "    </tr>\n",
       "    <tr>\n",
       "      <th>1</th>\n",
       "      <td>2</td>\n",
       "      <td>3338852</td>\n",
       "      <td>11081238</td>\n",
       "      <td>2021-03-05 12:12:14.164</td>\n",
       "      <td>ios</td>\n",
       "    </tr>\n",
       "    <tr>\n",
       "      <th>2</th>\n",
       "      <td>3</td>\n",
       "      <td>5984111</td>\n",
       "      <td>10091471</td>\n",
       "      <td>2021-03-07 23:13:24.163</td>\n",
       "      <td>ios</td>\n",
       "    </tr>\n",
       "    <tr>\n",
       "      <th>3</th>\n",
       "      <td>4</td>\n",
       "      <td>1434486</td>\n",
       "      <td>10058112</td>\n",
       "      <td>2021-04-12 10:03:38.614</td>\n",
       "      <td>android</td>\n",
       "    </tr>\n",
       "    <tr>\n",
       "      <th>4</th>\n",
       "      <td>11612</td>\n",
       "      <td>1559772</td>\n",
       "      <td>11085973</td>\n",
       "      <td>2021-08-09 09:12:51.985</td>\n",
       "      <td>android</td>\n",
       "    </tr>\n",
       "  </tbody>\n",
       "</table>\n",
       "</div>"
      ],
      "text/plain": [
       "      id  page_id   user_id               server_date   source\n",
       "0      1  5136113  10091236  2021-03-04 23:45:46.000   desktop\n",
       "1      2  3338852  11081238   2021-03-05 12:12:14.164      ios\n",
       "2      3  5984111  10091471   2021-03-07 23:13:24.163      ios\n",
       "3      4  1434486  10058112   2021-04-12 10:03:38.614  android\n",
       "4  11612  1559772  11085973   2021-08-09 09:12:51.985  android"
      ]
     },
     "execution_count": 68,
     "metadata": {},
     "output_type": "execute_result"
    }
   ],
   "source": [
    "#create the table Visits\n",
    "visits = {'id':[1,2,3,4,11612],\n",
    "         'page_id':[5136113,3338852,5984111,1434486,1559772],\n",
    "         'user_id':[10091236,11081238,10091471,10058112,11085973],\n",
    "         'server_date':['2021-03-04 23:45:46.000 ','2021-03-05 12:12:14.164','2021-03-07 23:13:24.163' ,'2021-04-12 10:03:38.614','2021-08-09 09:12:51.985'],\n",
    "          'source':['desktop','ios','ios','android','android']}\n",
    "visits = pd.DataFrame(data = visits)\n",
    "#show first 10 elements\n",
    "visits.head(10)"
   ]
  },
  {
   "cell_type": "code",
   "execution_count": 69,
   "metadata": {},
   "outputs": [
    {
     "name": "stdout",
     "output_type": "stream",
     "text": [
      "<class 'pandas.core.frame.DataFrame'>\n",
      "RangeIndex: 5 entries, 0 to 4\n",
      "Data columns (total 5 columns):\n",
      " #   Column       Non-Null Count  Dtype         \n",
      "---  ------       --------------  -----         \n",
      " 0   id           5 non-null      int64         \n",
      " 1   page_id      5 non-null      int64         \n",
      " 2   user_id      5 non-null      int64         \n",
      " 3   server_date  5 non-null      datetime64[ns]\n",
      " 4   source       5 non-null      object        \n",
      "dtypes: datetime64[ns](1), int64(3), object(1)\n",
      "memory usage: 328.0+ bytes\n"
     ]
    }
   ],
   "source": [
    "visits['server_date'] = pd.to_datetime(visits['server_date'])\n",
    "visits.info()"
   ]
  },
  {
   "cell_type": "code",
   "execution_count": 70,
   "metadata": {},
   "outputs": [
    {
     "data": {
      "text/html": [
       "<div>\n",
       "<style scoped>\n",
       "    .dataframe tbody tr th:only-of-type {\n",
       "        vertical-align: middle;\n",
       "    }\n",
       "\n",
       "    .dataframe tbody tr th {\n",
       "        vertical-align: top;\n",
       "    }\n",
       "\n",
       "    .dataframe thead th {\n",
       "        text-align: right;\n",
       "    }\n",
       "</style>\n",
       "<table border=\"1\" class=\"dataframe\">\n",
       "  <thead>\n",
       "    <tr style=\"text-align: right;\">\n",
       "      <th></th>\n",
       "      <th>id</th>\n",
       "      <th>transaction_id</th>\n",
       "      <th>user_id</th>\n",
       "      <th>purchase_date</th>\n",
       "      <th>product_type</th>\n",
       "      <th>price</th>\n",
       "    </tr>\n",
       "  </thead>\n",
       "  <tbody>\n",
       "    <tr>\n",
       "      <th>0</th>\n",
       "      <td>1</td>\n",
       "      <td>463</td>\n",
       "      <td>10091236</td>\n",
       "      <td>2021-03-04 23:45:46.000</td>\n",
       "      <td>vas</td>\n",
       "      <td>600</td>\n",
       "    </tr>\n",
       "    <tr>\n",
       "      <th>1</th>\n",
       "      <td>2</td>\n",
       "      <td>622</td>\n",
       "      <td>20053412</td>\n",
       "      <td>2021-03-05 12:12:14.164</td>\n",
       "      <td>packet</td>\n",
       "      <td>1500</td>\n",
       "    </tr>\n",
       "    <tr>\n",
       "      <th>2</th>\n",
       "      <td>3</td>\n",
       "      <td>646</td>\n",
       "      <td>95021654</td>\n",
       "      <td>2021-03-07 23:13:24.163</td>\n",
       "      <td>packet</td>\n",
       "      <td>1730</td>\n",
       "    </tr>\n",
       "    <tr>\n",
       "      <th>3</th>\n",
       "      <td>4</td>\n",
       "      <td>853</td>\n",
       "      <td>51123555</td>\n",
       "      <td>2021-04-12 10:03:38.614</td>\n",
       "      <td>vas</td>\n",
       "      <td>600</td>\n",
       "    </tr>\n",
       "    <tr>\n",
       "      <th>4</th>\n",
       "      <td>11612</td>\n",
       "      <td>12684</td>\n",
       "      <td>20053411</td>\n",
       "      <td>2021-08-09 09:12:51.985</td>\n",
       "      <td>packet</td>\n",
       "      <td>1200</td>\n",
       "    </tr>\n",
       "  </tbody>\n",
       "</table>\n",
       "</div>"
      ],
      "text/plain": [
       "      id  transaction_id   user_id            purchase_date product_type  \\\n",
       "0      1             463  10091236  2021-03-04 23:45:46.000          vas   \n",
       "1      2             622  20053412  2021-03-05 12:12:14.164       packet   \n",
       "2      3             646  95021654  2021-03-07 23:13:24.163       packet   \n",
       "3      4             853  51123555  2021-04-12 10:03:38.614          vas   \n",
       "4  11612           12684  20053411  2021-08-09 09:12:51.985       packet   \n",
       "\n",
       "   price  \n",
       "0    600  \n",
       "1   1500  \n",
       "2   1730  \n",
       "3    600  \n",
       "4   1200  "
      ]
     },
     "execution_count": 70,
     "metadata": {},
     "output_type": "execute_result"
    }
   ],
   "source": [
    "#create the table Purchases\n",
    "purchases = {'id':[1,2,3,4,11612],\n",
    "            'transaction_id':[463,622,646,853,12684],\n",
    "             'user_id':[10091236,20053412,95021654,51123555,20053411],\n",
    "             'purchase_date':['2021-03-04 23:45:46.000','2021-03-05 12:12:14.164','2021-03-07 23:13:24.163','2021-04-12 10:03:38.614','2021-08-09 09:12:51.985'],\n",
    "             'product_type':['vas','packet','packet','vas','packet'],\n",
    "             'price':[600,1500,1730,600,1200]}\n",
    "\n",
    "purchases = pd.DataFrame(data = purchases)\n",
    "#show data\n",
    "purchases"
   ]
  },
  {
   "cell_type": "code",
   "execution_count": 71,
   "metadata": {},
   "outputs": [
    {
     "name": "stdout",
     "output_type": "stream",
     "text": [
      "<class 'pandas.core.frame.DataFrame'>\n",
      "RangeIndex: 5 entries, 0 to 4\n",
      "Data columns (total 6 columns):\n",
      " #   Column          Non-Null Count  Dtype         \n",
      "---  ------          --------------  -----         \n",
      " 0   id              5 non-null      int64         \n",
      " 1   transaction_id  5 non-null      int64         \n",
      " 2   user_id         5 non-null      int64         \n",
      " 3   purchase_date   5 non-null      datetime64[ns]\n",
      " 4   product_type    5 non-null      object        \n",
      " 5   price           5 non-null      int64         \n",
      "dtypes: datetime64[ns](1), int64(4), object(1)\n",
      "memory usage: 368.0+ bytes\n"
     ]
    }
   ],
   "source": [
    "purchases['purchase_date'] = pd.to_datetime(purchases['purchase_date'])\n",
    "purchases.info()"
   ]
  },
  {
   "cell_type": "code",
   "execution_count": 72,
   "metadata": {},
   "outputs": [],
   "source": [
    "visits.to_sql('Visits1',cnn)\n",
    "purchases.to_sql('Purchases1',cnn)"
   ]
  },
  {
   "cell_type": "code",
   "execution_count": 73,
   "metadata": {},
   "outputs": [
    {
     "name": "stdout",
     "output_type": "stream",
     "text": [
      " * sqlite:///sql.db\n",
      "Done.\n"
     ]
    },
    {
     "data": {
      "text/html": [
       "<table>\n",
       "    <tr>\n",
       "        <th>index</th>\n",
       "        <th>id</th>\n",
       "        <th>page_id</th>\n",
       "        <th>user_id</th>\n",
       "        <th>server_date</th>\n",
       "        <th>source</th>\n",
       "    </tr>\n",
       "    <tr>\n",
       "        <td>0</td>\n",
       "        <td>1</td>\n",
       "        <td>5136113</td>\n",
       "        <td>10091236</td>\n",
       "        <td>2021-03-04 23:45:46</td>\n",
       "        <td>desktop</td>\n",
       "    </tr>\n",
       "    <tr>\n",
       "        <td>1</td>\n",
       "        <td>2</td>\n",
       "        <td>3338852</td>\n",
       "        <td>11081238</td>\n",
       "        <td>2021-03-05 12:12:14.164000</td>\n",
       "        <td>ios</td>\n",
       "    </tr>\n",
       "    <tr>\n",
       "        <td>2</td>\n",
       "        <td>3</td>\n",
       "        <td>5984111</td>\n",
       "        <td>10091471</td>\n",
       "        <td>2021-03-07 23:13:24.163000</td>\n",
       "        <td>ios</td>\n",
       "    </tr>\n",
       "    <tr>\n",
       "        <td>3</td>\n",
       "        <td>4</td>\n",
       "        <td>1434486</td>\n",
       "        <td>10058112</td>\n",
       "        <td>2021-04-12 10:03:38.614000</td>\n",
       "        <td>android</td>\n",
       "    </tr>\n",
       "    <tr>\n",
       "        <td>4</td>\n",
       "        <td>11612</td>\n",
       "        <td>1559772</td>\n",
       "        <td>11085973</td>\n",
       "        <td>2021-08-09 09:12:51.985000</td>\n",
       "        <td>android</td>\n",
       "    </tr>\n",
       "</table>"
      ],
      "text/plain": [
       "[(0, 1, 5136113, 10091236, '2021-03-04 23:45:46', 'desktop'),\n",
       " (1, 2, 3338852, 11081238, '2021-03-05 12:12:14.164000', 'ios'),\n",
       " (2, 3, 5984111, 10091471, '2021-03-07 23:13:24.163000', 'ios'),\n",
       " (3, 4, 1434486, 10058112, '2021-04-12 10:03:38.614000', 'android'),\n",
       " (4, 11612, 1559772, 11085973, '2021-08-09 09:12:51.985000', 'android')]"
      ]
     },
     "execution_count": 73,
     "metadata": {},
     "output_type": "execute_result"
    }
   ],
   "source": [
    "%%sql\n",
    "select *\n",
    "from Visits1"
   ]
  },
  {
   "cell_type": "code",
   "execution_count": 74,
   "metadata": {},
   "outputs": [
    {
     "name": "stdout",
     "output_type": "stream",
     "text": [
      " * sqlite:///sql.db\n",
      "Done.\n"
     ]
    },
    {
     "data": {
      "text/html": [
       "<table>\n",
       "    <tr>\n",
       "        <th>index</th>\n",
       "        <th>id</th>\n",
       "        <th>transaction_id</th>\n",
       "        <th>user_id</th>\n",
       "        <th>purchase_date</th>\n",
       "        <th>product_type</th>\n",
       "        <th>price</th>\n",
       "    </tr>\n",
       "    <tr>\n",
       "        <td>0</td>\n",
       "        <td>1</td>\n",
       "        <td>463</td>\n",
       "        <td>10091236</td>\n",
       "        <td>2021-03-04 23:45:46</td>\n",
       "        <td>vas</td>\n",
       "        <td>600</td>\n",
       "    </tr>\n",
       "    <tr>\n",
       "        <td>1</td>\n",
       "        <td>2</td>\n",
       "        <td>622</td>\n",
       "        <td>20053412</td>\n",
       "        <td>2021-03-05 12:12:14.164000</td>\n",
       "        <td>packet</td>\n",
       "        <td>1500</td>\n",
       "    </tr>\n",
       "    <tr>\n",
       "        <td>2</td>\n",
       "        <td>3</td>\n",
       "        <td>646</td>\n",
       "        <td>95021654</td>\n",
       "        <td>2021-03-07 23:13:24.163000</td>\n",
       "        <td>packet</td>\n",
       "        <td>1730</td>\n",
       "    </tr>\n",
       "    <tr>\n",
       "        <td>3</td>\n",
       "        <td>4</td>\n",
       "        <td>853</td>\n",
       "        <td>51123555</td>\n",
       "        <td>2021-04-12 10:03:38.614000</td>\n",
       "        <td>vas</td>\n",
       "        <td>600</td>\n",
       "    </tr>\n",
       "    <tr>\n",
       "        <td>4</td>\n",
       "        <td>11612</td>\n",
       "        <td>12684</td>\n",
       "        <td>20053411</td>\n",
       "        <td>2021-08-09 09:12:51.985000</td>\n",
       "        <td>packet</td>\n",
       "        <td>1200</td>\n",
       "    </tr>\n",
       "</table>"
      ],
      "text/plain": [
       "[(0, 1, 463, 10091236, '2021-03-04 23:45:46', 'vas', 600),\n",
       " (1, 2, 622, 20053412, '2021-03-05 12:12:14.164000', 'packet', 1500),\n",
       " (2, 3, 646, 95021654, '2021-03-07 23:13:24.163000', 'packet', 1730),\n",
       " (3, 4, 853, 51123555, '2021-04-12 10:03:38.614000', 'vas', 600),\n",
       " (4, 11612, 12684, 20053411, '2021-08-09 09:12:51.985000', 'packet', 1200)]"
      ]
     },
     "execution_count": 74,
     "metadata": {},
     "output_type": "execute_result"
    }
   ],
   "source": [
    "%%sql\n",
    "select *\n",
    "from Purchases1"
   ]
  },
  {
   "cell_type": "code",
   "execution_count": 75,
   "metadata": {},
   "outputs": [
    {
     "name": "stdout",
     "output_type": "stream",
     "text": [
      " * sqlite:///sql.db\n",
      "Done.\n"
     ]
    },
    {
     "data": {
      "text/html": [
       "<table>\n",
       "    <tr>\n",
       "        <th>cid</th>\n",
       "        <th>name</th>\n",
       "        <th>type</th>\n",
       "        <th>notnull</th>\n",
       "        <th>dflt_value</th>\n",
       "        <th>pk</th>\n",
       "    </tr>\n",
       "    <tr>\n",
       "        <td>0</td>\n",
       "        <td>index</td>\n",
       "        <td>INTEGER</td>\n",
       "        <td>0</td>\n",
       "        <td>None</td>\n",
       "        <td>0</td>\n",
       "    </tr>\n",
       "    <tr>\n",
       "        <td>1</td>\n",
       "        <td>id</td>\n",
       "        <td>INTEGER</td>\n",
       "        <td>0</td>\n",
       "        <td>None</td>\n",
       "        <td>0</td>\n",
       "    </tr>\n",
       "    <tr>\n",
       "        <td>2</td>\n",
       "        <td>page_id</td>\n",
       "        <td>INTEGER</td>\n",
       "        <td>0</td>\n",
       "        <td>None</td>\n",
       "        <td>0</td>\n",
       "    </tr>\n",
       "    <tr>\n",
       "        <td>3</td>\n",
       "        <td>user_id</td>\n",
       "        <td>INTEGER</td>\n",
       "        <td>0</td>\n",
       "        <td>None</td>\n",
       "        <td>0</td>\n",
       "    </tr>\n",
       "    <tr>\n",
       "        <td>4</td>\n",
       "        <td>server_date</td>\n",
       "        <td>TIMESTAMP</td>\n",
       "        <td>0</td>\n",
       "        <td>None</td>\n",
       "        <td>0</td>\n",
       "    </tr>\n",
       "    <tr>\n",
       "        <td>5</td>\n",
       "        <td>source</td>\n",
       "        <td>TEXT</td>\n",
       "        <td>0</td>\n",
       "        <td>None</td>\n",
       "        <td>0</td>\n",
       "    </tr>\n",
       "</table>"
      ],
      "text/plain": [
       "[(0, 'index', 'INTEGER', 0, None, 0),\n",
       " (1, 'id', 'INTEGER', 0, None, 0),\n",
       " (2, 'page_id', 'INTEGER', 0, None, 0),\n",
       " (3, 'user_id', 'INTEGER', 0, None, 0),\n",
       " (4, 'server_date', 'TIMESTAMP', 0, None, 0),\n",
       " (5, 'source', 'TEXT', 0, None, 0)]"
      ]
     },
     "execution_count": 75,
     "metadata": {},
     "output_type": "execute_result"
    }
   ],
   "source": [
    "%%sql\n",
    "pragma table_info('Visits1');"
   ]
  },
  {
   "cell_type": "code",
   "execution_count": 76,
   "metadata": {},
   "outputs": [
    {
     "name": "stdout",
     "output_type": "stream",
     "text": [
      " * sqlite:///sql.db\n",
      "Done.\n"
     ]
    },
    {
     "data": {
      "text/html": [
       "<table>\n",
       "    <tr>\n",
       "        <th>cid</th>\n",
       "        <th>name</th>\n",
       "        <th>type</th>\n",
       "        <th>notnull</th>\n",
       "        <th>dflt_value</th>\n",
       "        <th>pk</th>\n",
       "    </tr>\n",
       "    <tr>\n",
       "        <td>0</td>\n",
       "        <td>index</td>\n",
       "        <td>INTEGER</td>\n",
       "        <td>0</td>\n",
       "        <td>None</td>\n",
       "        <td>0</td>\n",
       "    </tr>\n",
       "    <tr>\n",
       "        <td>1</td>\n",
       "        <td>id</td>\n",
       "        <td>INTEGER</td>\n",
       "        <td>0</td>\n",
       "        <td>None</td>\n",
       "        <td>0</td>\n",
       "    </tr>\n",
       "    <tr>\n",
       "        <td>2</td>\n",
       "        <td>transaction_id</td>\n",
       "        <td>INTEGER</td>\n",
       "        <td>0</td>\n",
       "        <td>None</td>\n",
       "        <td>0</td>\n",
       "    </tr>\n",
       "    <tr>\n",
       "        <td>3</td>\n",
       "        <td>user_id</td>\n",
       "        <td>INTEGER</td>\n",
       "        <td>0</td>\n",
       "        <td>None</td>\n",
       "        <td>0</td>\n",
       "    </tr>\n",
       "    <tr>\n",
       "        <td>4</td>\n",
       "        <td>purchase_date</td>\n",
       "        <td>TIMESTAMP</td>\n",
       "        <td>0</td>\n",
       "        <td>None</td>\n",
       "        <td>0</td>\n",
       "    </tr>\n",
       "    <tr>\n",
       "        <td>5</td>\n",
       "        <td>product_type</td>\n",
       "        <td>TEXT</td>\n",
       "        <td>0</td>\n",
       "        <td>None</td>\n",
       "        <td>0</td>\n",
       "    </tr>\n",
       "    <tr>\n",
       "        <td>6</td>\n",
       "        <td>price</td>\n",
       "        <td>INTEGER</td>\n",
       "        <td>0</td>\n",
       "        <td>None</td>\n",
       "        <td>0</td>\n",
       "    </tr>\n",
       "</table>"
      ],
      "text/plain": [
       "[(0, 'index', 'INTEGER', 0, None, 0),\n",
       " (1, 'id', 'INTEGER', 0, None, 0),\n",
       " (2, 'transaction_id', 'INTEGER', 0, None, 0),\n",
       " (3, 'user_id', 'INTEGER', 0, None, 0),\n",
       " (4, 'purchase_date', 'TIMESTAMP', 0, None, 0),\n",
       " (5, 'product_type', 'TEXT', 0, None, 0),\n",
       " (6, 'price', 'INTEGER', 0, None, 0)]"
      ]
     },
     "execution_count": 76,
     "metadata": {},
     "output_type": "execute_result"
    }
   ],
   "source": [
    "%%sql\n",
    "pragma table_info('Purchases1');"
   ]
  },
  {
   "cell_type": "code",
   "execution_count": 77,
   "metadata": {},
   "outputs": [
    {
     "name": "stdout",
     "output_type": "stream",
     "text": [
      " * sqlite:///sql.db\n",
      "Done.\n"
     ]
    },
    {
     "data": {
      "text/html": [
       "<table>\n",
       "    <tr>\n",
       "        <th>index</th>\n",
       "        <th>id</th>\n",
       "        <th>page_id</th>\n",
       "        <th>user_id</th>\n",
       "        <th>server_date</th>\n",
       "        <th>source</th>\n",
       "        <th>index_1</th>\n",
       "        <th>id_1</th>\n",
       "        <th>transaction_id</th>\n",
       "        <th>user_id_1</th>\n",
       "        <th>purchase_date</th>\n",
       "        <th>product_type</th>\n",
       "        <th>price</th>\n",
       "    </tr>\n",
       "    <tr>\n",
       "        <td>0</td>\n",
       "        <td>1</td>\n",
       "        <td>5136113</td>\n",
       "        <td>10091236</td>\n",
       "        <td>2021-03-04 23:45:46</td>\n",
       "        <td>desktop</td>\n",
       "        <td>0</td>\n",
       "        <td>1</td>\n",
       "        <td>463</td>\n",
       "        <td>10091236</td>\n",
       "        <td>2021-03-04 23:45:46</td>\n",
       "        <td>vas</td>\n",
       "        <td>600</td>\n",
       "    </tr>\n",
       "</table>"
      ],
      "text/plain": [
       "[(0, 1, 5136113, 10091236, '2021-03-04 23:45:46', 'desktop', 0, 1, 463, 10091236, '2021-03-04 23:45:46', 'vas', 600)]"
      ]
     },
     "execution_count": 77,
     "metadata": {},
     "output_type": "execute_result"
    }
   ],
   "source": [
    "%%sql\n",
    "select *\n",
    "from Visits1\n",
    "inner join Purchases1\n",
    "on Visits1.user_id= Purchases1.user_id;"
   ]
  },
  {
   "cell_type": "markdown",
   "metadata": {},
   "source": [
    "## Решение задачи №1"
   ]
  },
  {
   "cell_type": "code",
   "execution_count": 89,
   "metadata": {},
   "outputs": [
    {
     "name": "stdout",
     "output_type": "stream",
     "text": [
      " * sqlite:///sql.db\n",
      "Done.\n"
     ]
    },
    {
     "data": {
      "text/html": [
       "<table>\n",
       "    <tr>\n",
       "        <th>index</th>\n",
       "        <th>id</th>\n",
       "        <th>page_id</th>\n",
       "        <th>user_id</th>\n",
       "        <th>server_date</th>\n",
       "        <th>source</th>\n",
       "    </tr>\n",
       "    <tr>\n",
       "        <td>0</td>\n",
       "        <td>1</td>\n",
       "        <td>5136113</td>\n",
       "        <td>10091236</td>\n",
       "        <td>2021-03-04 23:45:46</td>\n",
       "        <td>desktop</td>\n",
       "    </tr>\n",
       "</table>"
      ],
      "text/plain": [
       "[(0, 1, 5136113, 10091236, '2021-03-04 23:45:46', 'desktop')]"
      ]
     },
     "execution_count": 89,
     "metadata": {},
     "output_type": "execute_result"
    }
   ],
   "source": [
    "%%sql\n",
    "select *\n",
    "from Visits1\n",
    "where Visits1.user_id = (select distinct(Purchases1.user_id)\n",
    "                       from Visits1,Purchases1\n",
    "                       where Visits1.server_date between '2021-03-01 00:00:00' and '2021-03-31 23:59:59'\n",
    "                       and Purchases1.product_type != 'packet'\n",
    "                       and Visits1.user_id = Purchases1.user_id);"
   ]
  },
  {
   "cell_type": "markdown",
   "metadata": {},
   "source": [
    "## 2. Из приведенных ниже таблиц составьте запрос, чтобы выбрать список уникальных пользователей, \n",
    "## которые делали публикации и/или совершали покупки на сайте в течение марта 2021 года."
   ]
  },
  {
   "cell_type": "code",
   "execution_count": 81,
   "metadata": {},
   "outputs": [
    {
     "data": {
      "text/html": [
       "<div>\n",
       "<style scoped>\n",
       "    .dataframe tbody tr th:only-of-type {\n",
       "        vertical-align: middle;\n",
       "    }\n",
       "\n",
       "    .dataframe tbody tr th {\n",
       "        vertical-align: top;\n",
       "    }\n",
       "\n",
       "    .dataframe thead th {\n",
       "        text-align: right;\n",
       "    }\n",
       "</style>\n",
       "<table border=\"1\" class=\"dataframe\">\n",
       "  <thead>\n",
       "    <tr style=\"text-align: right;\">\n",
       "      <th></th>\n",
       "      <th>user_id</th>\n",
       "      <th>posting_date</th>\n",
       "      <th>category_id</th>\n",
       "      <th>city_id</th>\n",
       "    </tr>\n",
       "  </thead>\n",
       "  <tbody>\n",
       "    <tr>\n",
       "      <th>0</th>\n",
       "      <td>10091236</td>\n",
       "      <td>2021-03-04 23:45:46.000</td>\n",
       "      <td>1</td>\n",
       "      <td>52</td>\n",
       "    </tr>\n",
       "    <tr>\n",
       "      <th>1</th>\n",
       "      <td>10091236</td>\n",
       "      <td>2021-03-05 12:12:14.164</td>\n",
       "      <td>1</td>\n",
       "      <td>21</td>\n",
       "    </tr>\n",
       "    <tr>\n",
       "      <th>2</th>\n",
       "      <td>50023697</td>\n",
       "      <td>2021-03-07 23:13:24.163</td>\n",
       "      <td>4</td>\n",
       "      <td>58</td>\n",
       "    </tr>\n",
       "    <tr>\n",
       "      <th>3</th>\n",
       "      <td>20014723</td>\n",
       "      <td>2021-04-12 10:03:38.614</td>\n",
       "      <td>6</td>\n",
       "      <td>21</td>\n",
       "    </tr>\n",
       "    <tr>\n",
       "      <th>4</th>\n",
       "      <td>11158923</td>\n",
       "      <td>2021-08-09 09:12:51.985</td>\n",
       "      <td>6</td>\n",
       "      <td>21</td>\n",
       "    </tr>\n",
       "  </tbody>\n",
       "</table>\n",
       "</div>"
      ],
      "text/plain": [
       "    user_id            posting_date  category_id  city_id\n",
       "0  10091236 2021-03-04 23:45:46.000            1       52\n",
       "1  10091236 2021-03-05 12:12:14.164            1       21\n",
       "2  50023697 2021-03-07 23:13:24.163            4       58\n",
       "3  20014723 2021-04-12 10:03:38.614            6       21\n",
       "4  11158923 2021-08-09 09:12:51.985            6       21"
      ]
     },
     "execution_count": 81,
     "metadata": {},
     "output_type": "execute_result"
    }
   ],
   "source": [
    "#create the table Visits\n",
    "posting = {'user_id':[10091236,10091236,50023697,20014723,11158923],\n",
    "           'posting_date':['2021-03-04 23:45:46.000','2021-03-05 12:12:14.164','2021-03-07 23:13:24.163','2021-04-12 10:03:38.614','2021-08-09 09:12:51.985'],\n",
    "           'category_id':[1,1,4,6,6],\n",
    "           'city_id':[52,21,58,21,21]}\n",
    "posting = pd.DataFrame(data = posting)\n",
    "#show first 10 elements\n",
    "posting['posting_date'] = pd.to_datetime(posting['posting_date'])\n",
    "posting"
   ]
  },
  {
   "cell_type": "code",
   "execution_count": 84,
   "metadata": {},
   "outputs": [],
   "source": [
    "posting.to_sql('Posting',cnn)"
   ]
  },
  {
   "cell_type": "markdown",
   "metadata": {},
   "source": [
    "## Решение задачи №2"
   ]
  },
  {
   "cell_type": "code",
   "execution_count": 90,
   "metadata": {},
   "outputs": [
    {
     "name": "stdout",
     "output_type": "stream",
     "text": [
      " * sqlite:///sql.db\n",
      "Done.\n"
     ]
    },
    {
     "data": {
      "text/html": [
       "<table>\n",
       "    <tr>\n",
       "        <th>index</th>\n",
       "        <th>id</th>\n",
       "        <th>transaction_id</th>\n",
       "        <th>user_id</th>\n",
       "        <th>purchase_date</th>\n",
       "        <th>product_type</th>\n",
       "        <th>price</th>\n",
       "    </tr>\n",
       "    <tr>\n",
       "        <td>0</td>\n",
       "        <td>1</td>\n",
       "        <td>463</td>\n",
       "        <td>10091236</td>\n",
       "        <td>2021-03-04 23:45:46</td>\n",
       "        <td>vas</td>\n",
       "        <td>600</td>\n",
       "    </tr>\n",
       "</table>"
      ],
      "text/plain": [
       "[(0, 1, 463, 10091236, '2021-03-04 23:45:46', 'vas', 600)]"
      ]
     },
     "execution_count": 90,
     "metadata": {},
     "output_type": "execute_result"
    }
   ],
   "source": [
    "%%sql \n",
    "SELECT * \n",
    "FROM Purchases1\n",
    "WHERE Purchases1.user_id = ( SELECT DISTINCT(Posting.user_id) \n",
    "               FROM Posting,Purchases1\n",
    "               where Posting.posting_date between '2021-03-01 00:00:00' and '2021-03-31 23:59:59'\n",
    "               and Posting.user_id = Purchases1.user_id ) ;"
   ]
  },
  {
   "cell_type": "markdown",
   "metadata": {},
   "source": [
    "## 3. Из приведенной ниже таблицы составьте запрос, чтобы выбрать вторую последнюю (вторую с конца) покупку каждого юзера"
   ]
  },
  {
   "cell_type": "code",
   "execution_count": 88,
   "metadata": {},
   "outputs": [
    {
     "name": "stdout",
     "output_type": "stream",
     "text": [
      " * sqlite:///sql.db\n",
      "Done.\n"
     ]
    },
    {
     "data": {
      "text/html": [
       "<table>\n",
       "    <tr>\n",
       "        <th>index</th>\n",
       "        <th>id</th>\n",
       "        <th>transaction_id</th>\n",
       "        <th>user_id</th>\n",
       "        <th>purchase_date</th>\n",
       "        <th>product_type</th>\n",
       "        <th>price</th>\n",
       "    </tr>\n",
       "    <tr>\n",
       "        <td>3</td>\n",
       "        <td>4</td>\n",
       "        <td>853</td>\n",
       "        <td>51123555</td>\n",
       "        <td>2021-04-12 10:03:38.614000</td>\n",
       "        <td>vas</td>\n",
       "        <td>600</td>\n",
       "    </tr>\n",
       "</table>"
      ],
      "text/plain": [
       "[(3, 4, 853, 51123555, '2021-04-12 10:03:38.614000', 'vas', 600)]"
      ]
     },
     "execution_count": 88,
     "metadata": {},
     "output_type": "execute_result"
    }
   ],
   "source": [
    "%%sql \n",
    "SELECT * \n",
    "FROM Purchases1\n",
    "WHERE Purchases1.purchase_date = ( SELECT MAX(Purchases1.purchase_date) \n",
    "               FROM Purchases1\n",
    "               WHERE Purchases1.purchase_date < ( SELECT MAX(Purchases1.purchase_date) \n",
    "                              FROM Purchases1)) ;"
   ]
  },
  {
   "cell_type": "markdown",
   "metadata": {},
   "source": [
    "## 1. Создайте небольшой фрагмент кода, который использует файл Excel, содержащий список менеджеров и их клиентов, в качестве входных данных и создает отдельные файлы Excel <manager’s name.xlsx>, который содержит клиентов для каждого из менеджеров."
   ]
  },
  {
   "cell_type": "code",
   "execution_count": 14,
   "metadata": {},
   "outputs": [
    {
     "data": {
      "text/plain": [
       "array(['Petr', 'Kuat', 'Askhat', 'Aset', 'Aliya', 'Kate', 'Ivan',\n",
       "       'Meruert', 'Erbol', 'Liana'], dtype=object)"
      ]
     },
     "execution_count": 14,
     "metadata": {},
     "output_type": "execute_result"
    }
   ],
   "source": [
    "manager_name = trans.manager.unique()\n",
    "manager_name"
   ]
  },
  {
   "cell_type": "code",
   "execution_count": 91,
   "metadata": {},
   "outputs": [],
   "source": [
    "kuat = trans[trans['manager'] == 'Kuat']\n",
    "kuat.to_csv('kuat.csv')\n",
    "petr = trans[trans['manager'] == 'Petr']\n",
    "petr.to_csv('petr.csv')\n",
    "askhat = trans[trans['manager'] == 'Askhat']\n",
    "askhat.to_csv('askhat.csv')\n",
    "aset = trans[trans['manager'] == 'Aset']\n",
    "aset.to_csv('aset.csv')\n",
    "aliya = trans[trans['manager'] == 'Aliya']\n",
    "aliya.to_csv('aliya.csv')\n",
    "kate = trans[trans['manager'] == 'Kate']\n",
    "kate.to_csv('kate.csv')\n",
    "ivan = trans[trans['manager'] == 'Ivan']\n",
    "ivan.to_csv('ivan.csv')\n",
    "meruert = trans[trans['manager'] == 'Meruert']\n",
    "meruert.to_csv('meruert.csv')\n",
    "erbol = trans[trans['manager'] == 'Erbol']\n",
    "erbol.to_csv('erbol.csv')\n",
    "liana = trans[trans['manager'] == 'Liana']\n",
    "liana.to_csv('liana.csv')"
   ]
  },
  {
   "cell_type": "markdown",
   "metadata": {},
   "source": [
    "## 2. Используя учетные данные ниже для подключения к базе MySQL, напишите скрипт, который подключается к базе данных и запускает некоторый «Select» и записывает результаты в csv файл."
   ]
  },
  {
   "cell_type": "code",
   "execution_count": 57,
   "metadata": {},
   "outputs": [
    {
     "data": {
      "text/plain": [
       "<sqlite3.Cursor at 0x2a26c893a40>"
      ]
     },
     "execution_count": 57,
     "metadata": {},
     "output_type": "execute_result"
    }
   ],
   "source": [
    "import sqlite3\n",
    "\n",
    "connection = sqlite3.connect('database.db')\n",
    "cursor = connection.cursor()\n",
    "create_table = '''\n",
    "CREATE TABLE UserBase (\n",
    "Host VARCHAR(20),\n",
    "Port VARCHAR(4),\n",
    "Db VARCHAR(30),\n",
    "User VARCHAR(20),\n",
    "Password VARCHAR(30));'''\n",
    "cursor.execute(create_table)\n"
   ]
  },
  {
   "cell_type": "code",
   "execution_count": 59,
   "metadata": {},
   "outputs": [
    {
     "name": "stdin",
     "output_type": "stream",
     "text": [
      "Host IP :  255.122.2.21\n",
      "Port :  2554\n",
      "DataBase:  main\n",
      "User type:  candidate\n",
      "Password:  asga\n"
     ]
    },
    {
     "data": {
      "text/plain": [
       "<sqlite3.Cursor at 0x2a26c893a40>"
      ]
     },
     "execution_count": 59,
     "metadata": {},
     "output_type": "execute_result"
    }
   ],
   "source": [
    "host = input('Host IP : ')\n",
    "port = input('Port : ')\n",
    "db = input('DataBase: ')\n",
    "user = input('User type: ')\n",
    "password = input('Password: ')\n",
    "\n",
    "add_staff = '''INSERT INTO UserBase (Host, Port, Db,User,Password) VALUES (?,?,?,?,?);'''\n",
    "cursor.execute(add_staff,(host,port,db,user,port))"
   ]
  },
  {
   "cell_type": "code",
   "execution_count": 63,
   "metadata": {},
   "outputs": [
    {
     "data": {
      "text/html": [
       "<div>\n",
       "<style scoped>\n",
       "    .dataframe tbody tr th:only-of-type {\n",
       "        vertical-align: middle;\n",
       "    }\n",
       "\n",
       "    .dataframe tbody tr th {\n",
       "        vertical-align: top;\n",
       "    }\n",
       "\n",
       "    .dataframe thead th {\n",
       "        text-align: right;\n",
       "    }\n",
       "</style>\n",
       "<table border=\"1\" class=\"dataframe\">\n",
       "  <thead>\n",
       "    <tr style=\"text-align: right;\">\n",
       "      <th></th>\n",
       "      <th>Host</th>\n",
       "      <th>Port</th>\n",
       "      <th>Db</th>\n",
       "      <th>User</th>\n",
       "      <th>Password</th>\n",
       "    </tr>\n",
       "  </thead>\n",
       "  <tbody>\n",
       "    <tr>\n",
       "      <th>0</th>\n",
       "      <td>255.122.2.21</td>\n",
       "      <td>2554</td>\n",
       "      <td>main</td>\n",
       "      <td>candidate</td>\n",
       "      <td>2554</td>\n",
       "    </tr>\n",
       "  </tbody>\n",
       "</table>\n",
       "</div>"
      ],
      "text/plain": [
       "           Host  Port    Db       User Password\n",
       "0  255.122.2.21  2554  main  candidate     2554"
      ]
     },
     "execution_count": 63,
     "metadata": {},
     "output_type": "execute_result"
    }
   ],
   "source": [
    "df = pd.read_sql_query(\"SELECT * FROM UserBase\", connection)\n",
    "df.to_csv('datas.csv')\n",
    "df"
   ]
  },
  {
   "cell_type": "markdown",
   "metadata": {},
   "source": [
    "## 3. Используя данные в excel и csv файлах посчитайте финансовый результат (сумма цен) для каждого менеджера, месяца и продукта. ВАЖНО: Считать только по клиентам, которым звонили и которые являются «пакетными» клиентами. "
   ]
  },
  {
   "cell_type": "code",
   "execution_count": 86,
   "metadata": {},
   "outputs": [
    {
     "data": {
      "text/html": [
       "<div>\n",
       "<style scoped>\n",
       "    .dataframe tbody tr th:only-of-type {\n",
       "        vertical-align: middle;\n",
       "    }\n",
       "\n",
       "    .dataframe tbody tr th {\n",
       "        vertical-align: top;\n",
       "    }\n",
       "\n",
       "    .dataframe thead th {\n",
       "        text-align: right;\n",
       "    }\n",
       "</style>\n",
       "<table border=\"1\" class=\"dataframe\">\n",
       "  <thead>\n",
       "    <tr style=\"text-align: right;\">\n",
       "      <th></th>\n",
       "      <th></th>\n",
       "      <th></th>\n",
       "      <th>uah</th>\n",
       "    </tr>\n",
       "    <tr>\n",
       "      <th>manager</th>\n",
       "      <th>last_call</th>\n",
       "      <th>type</th>\n",
       "      <th></th>\n",
       "    </tr>\n",
       "  </thead>\n",
       "  <tbody>\n",
       "    <tr>\n",
       "      <th rowspan=\"5\" valign=\"top\">Aliya</th>\n",
       "      <th>01.10.2021</th>\n",
       "      <th>a</th>\n",
       "      <td>1000</td>\n",
       "    </tr>\n",
       "    <tr>\n",
       "      <th>02.01.2021</th>\n",
       "      <th>b</th>\n",
       "      <td>5000</td>\n",
       "    </tr>\n",
       "    <tr>\n",
       "      <th>02.03.2021</th>\n",
       "      <th>a</th>\n",
       "      <td>1000</td>\n",
       "    </tr>\n",
       "    <tr>\n",
       "      <th>02.06.2021</th>\n",
       "      <th>a</th>\n",
       "      <td>1000</td>\n",
       "    </tr>\n",
       "    <tr>\n",
       "      <th>02.07.2021</th>\n",
       "      <th>c</th>\n",
       "      <td>4000</td>\n",
       "    </tr>\n",
       "    <tr>\n",
       "      <th>...</th>\n",
       "      <th>...</th>\n",
       "      <th>...</th>\n",
       "      <td>...</td>\n",
       "    </tr>\n",
       "    <tr>\n",
       "      <th rowspan=\"5\" valign=\"top\">Petr</th>\n",
       "      <th rowspan=\"3\" valign=\"top\">30.07.2021</th>\n",
       "      <th>c</th>\n",
       "      <td>4000</td>\n",
       "    </tr>\n",
       "    <tr>\n",
       "      <th>d</th>\n",
       "      <td>10000</td>\n",
       "    </tr>\n",
       "    <tr>\n",
       "      <th>f</th>\n",
       "      <td>9000</td>\n",
       "    </tr>\n",
       "    <tr>\n",
       "      <th>31.01.2021</th>\n",
       "      <th>e</th>\n",
       "      <td>1000</td>\n",
       "    </tr>\n",
       "    <tr>\n",
       "      <th>31.05.2021</th>\n",
       "      <th>b</th>\n",
       "      <td>5000</td>\n",
       "    </tr>\n",
       "  </tbody>\n",
       "</table>\n",
       "<p>1263 rows × 1 columns</p>\n",
       "</div>"
      ],
      "text/plain": [
       "                           uah\n",
       "manager last_call  type       \n",
       "Aliya   01.10.2021 a      1000\n",
       "        02.01.2021 b      5000\n",
       "        02.03.2021 a      1000\n",
       "        02.06.2021 a      1000\n",
       "        02.07.2021 c      4000\n",
       "...                        ...\n",
       "Petr    30.07.2021 c      4000\n",
       "                   d     10000\n",
       "                   f      9000\n",
       "        31.01.2021 e      1000\n",
       "        31.05.2021 b      5000\n",
       "\n",
       "[1263 rows x 1 columns]"
      ]
     },
     "execution_count": 86,
     "metadata": {},
     "output_type": "execute_result"
    }
   ],
   "source": [
    "consumer = trans.merge(calls)\n",
    "packet_data = consumer[consumer['is_packet'] == 1]\n",
    "call = consumer.drop(['id','date','is_packet'], axis = 1)\n",
    "after_march_calls = call[call['last_call'] > '01.04.2021']\n",
    "after_march_calls.groupby(['manager','last_call','type']).sum()"
   ]
  },
  {
   "cell_type": "code",
   "execution_count": null,
   "metadata": {},
   "outputs": [],
   "source": []
  }
 ],
 "metadata": {
  "kernelspec": {
   "display_name": "Python 3",
   "language": "python",
   "name": "python3"
  },
  "language_info": {
   "codemirror_mode": {
    "name": "ipython",
    "version": 3
   },
   "file_extension": ".py",
   "mimetype": "text/x-python",
   "name": "python",
   "nbconvert_exporter": "python",
   "pygments_lexer": "ipython3",
   "version": "3.8.8"
  }
 },
 "nbformat": 4,
 "nbformat_minor": 4
}
